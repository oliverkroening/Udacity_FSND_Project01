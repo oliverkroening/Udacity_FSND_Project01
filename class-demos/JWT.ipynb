{
 "cells": [
  {
   "cell_type": "code",
   "execution_count": 6,
   "metadata": {
    "graffitiCellId": "id_4qb2tnx"
   },
   "outputs": [],
   "source": [
    "# Import Python Package\n",
    "import jwt\n",
    "import base64"
   ]
  },
  {
   "cell_type": "code",
   "execution_count": null,
   "metadata": {
    "graffitiCellId": "id_k89757m"
   },
   "outputs": [],
   "source": [
    "# Init our Data\n",
    "payload = {'park':'madison square'}\n",
    "algo = 'HS256' #HMAC-SHA 256\n",
    "secret = 'learning'"
   ]
  },
  {
   "cell_type": "code",
   "execution_count": null,
   "metadata": {
    "graffitiCellId": "id_vw9xq6y"
   },
   "outputs": [],
   "source": [
    "# Encode a JWT\n",
    "encoded_jwt = jwt.encode(payload, secret, algorithm=algo)\n",
    "print(encoded_jwt)"
   ]
  },
  {
   "cell_type": "code",
   "execution_count": null,
   "metadata": {
    "graffitiCellId": "id_9t02tpb"
   },
   "outputs": [],
   "source": [
    "# Decode a JWT\n",
    "decoded_jwt = jwt.decode(encoded_jwt, secret, verify=True)\n",
    "print(decoded_jwt)"
   ]
  },
  {
   "cell_type": "code",
   "execution_count": null,
   "metadata": {
    "graffitiCellId": "id_bk1gbv8"
   },
   "outputs": [],
   "source": [
    "# Decode with Simple Base64 Encoding\n",
    "decoded_base64 = base64.b64decode(str(encoded_jwt).split(\".\")[1]+\"==\")\n",
    "print(decoded_base64)"
   ]
  }
 ],
 "metadata": {
  "graffiti": {
   "firstAuthorId": "10489997357",
   "id": "id_e0r8xzp",
   "language": "EN"
  },
  "kernelspec": {
   "display_name": "Python 3",
   "language": "python",
   "name": "python3"
  },
  "language_info": {
   "codemirror_mode": {
    "name": "ipython",
    "version": 3
   },
   "file_extension": ".py",
   "mimetype": "text/x-python",
   "name": "python",
   "nbconvert_exporter": "python",
   "pygments_lexer": "ipython3",
   "version": "3.6.3"
  }
 },
 "nbformat": 4,
 "nbformat_minor": 2
}
