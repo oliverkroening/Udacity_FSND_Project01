{
 "cells": [
  {
   "cell_type": "markdown",
   "metadata": {
    "graffitiCellId": "id_o0dej5p"
   },
   "source": [
    "# Generating Rainbow Tables"
   ]
  },
  {
   "cell_type": "markdown",
   "metadata": {
    "graffitiCellId": "id_avc2zc5"
   },
   "source": [
    "## Set Up"
   ]
  },
  {
   "cell_type": "code",
   "execution_count": 1,
   "metadata": {
    "graffitiCellId": "id_saz53pc"
   },
   "outputs": [
    {
     "name": "stdout",
     "output_type": "stream",
     "text": [
      "['123456', 'password', '12345678', 'qwerty', '123456789', '12345', '1234', '111111', '1234567']\n"
     ]
    }
   ],
   "source": [
    "# Load the NIST list of 10,000 most commonly used passwords\n",
    "with open('nist_10000.txt', newline='') as bad_passwords:\n",
    "    nist_bad = bad_passwords.read().split('\\n')\n",
    "print(nist_bad[1:10])"
   ]
  },
  {
   "cell_type": "code",
   "execution_count": 2,
   "metadata": {
    "graffitiCellId": "id_y8qxu49"
   },
   "outputs": [],
   "source": [
    "# The following data is a normalized simplified user table\n",
    "# Imagine this information was stolen or leaked\n",
    "leaked_users_table = {\n",
    "    'jamie': {\n",
    "        'username': 'jamie',\n",
    "        'role': 'subscriber',\n",
    "        'md5': '203ad5ffa1d7c650ad681fdff3965cd2'\n",
    "    }, \n",
    "    'amanda': {\n",
    "        'username': 'amanda',\n",
    "        'role': 'administrator',\n",
    "        'md5': '315eb115d98fcbad39ffc5edebd669c9'\n",
    "    }, \n",
    "    'chiaki': {\n",
    "        'username': 'chiaki',\n",
    "        'role': 'subscriber',\n",
    "        'md5': '941c76b34f8687e46af0d94c167d1403'\n",
    "    }, \n",
    "    'viraj': {\n",
    "        'username': 'viraj',\n",
    "        'role': 'employee',\n",
    "        'md5': '319f4d26e3c536b5dd871bb2c52e3178'\n",
    "    },\n",
    "}"
   ]
  },
  {
   "cell_type": "code",
   "execution_count": 3,
   "metadata": {
    "graffitiCellId": "id_aqs4v1f"
   },
   "outputs": [
    {
     "data": {
      "text/plain": [
       "'8bea7325cb48514196063a1f74cf18a4'"
      ]
     },
     "execution_count": 3,
     "metadata": {},
     "output_type": "execute_result"
    }
   ],
   "source": [
    "# import the hashlib\n",
    "import hashlib \n",
    "# example hash\n",
    "word = 'blueberry'\n",
    "hashlib.md5(word.encode()).hexdigest()"
   ]
  },
  {
   "cell_type": "markdown",
   "metadata": {
    "graffitiCellId": "id_pcvysx7"
   },
   "source": [
    "## Your Task!\n",
    "### Use the information above and hashlib to:\n",
    "1. Create a python dictionary for each word in the `nist_bad` list. For each word, the dictionary should use the hashlib.md5 string as a key, and the word as the value.\n",
    "2. Iterate over each user in the `leaked_users_table` dictionary and attempt to use the rainbow table to crack their password."
   ]
  },
  {
   "cell_type": "code",
   "execution_count": 20,
   "metadata": {
    "graffitiCellId": "id_eyqjhd9"
   },
   "outputs": [
    {
     "name": "stdout",
     "output_type": "stream",
     "text": [
      "User: jamie hash: 203ad5ffa1d7c650ad681fdff3965cd2 Password: hello1\n",
      "User: amanda hash: 315eb115d98fcbad39ffc5edebd669c9 Password: qweasdzxc\n",
      "User: chiaki hash: 941c76b34f8687e46af0d94c167d1403 Password Not Found\n",
      "User: viraj hash: 319f4d26e3c536b5dd871bb2c52e3178 Password: PASSWORD\n"
     ]
    }
   ],
   "source": [
    "# SOLVE THE ABOVE TASK HERE!!! \n",
    "rainbow_table={}\n",
    "for pw in nist_bad:\n",
    "    pw_hash = hashlib.md5(pw.encode()).hexdigest()\n",
    "    rainbow_table[pw_hash]=pw\n",
    "\n",
    "for name in leaked_users_table:\n",
    "    user = leaked_users_table[name]\n",
    "    user_hash = user[\"md5\"]\n",
    "    try:\n",
    "        print(\"User: \" + name + \" hash: \" + user_hash + \" Password: \" + rainbow_table[user_hash])\n",
    "    except:\n",
    "        print(\"User: \" + name + \" hash: \" + user_hash + \" Password Not Found\")"
   ]
  },
  {
   "cell_type": "markdown",
   "metadata": {
    "graffitiCellId": "id_uypmj06"
   },
   "source": [
    "<span class=\"graffiti-highlight graffiti-id_uypmj06-id_r7srxv6\"><i></i><button>I'm Stuck! Show Solution</button></span>"
   ]
  }
 ],
 "metadata": {
  "graffiti": {
   "firstAuthorId": "10489997357",
   "id": "id_lgj666v",
   "language": "EN"
  },
  "kernelspec": {
   "display_name": "Python 3",
   "language": "python",
   "name": "python3"
  },
  "language_info": {
   "codemirror_mode": {
    "name": "ipython",
    "version": 3
   },
   "file_extension": ".py",
   "mimetype": "text/x-python",
   "name": "python",
   "nbconvert_exporter": "python",
   "pygments_lexer": "ipython3",
   "version": "3.6.3"
  }
 },
 "nbformat": 4,
 "nbformat_minor": 2
}
