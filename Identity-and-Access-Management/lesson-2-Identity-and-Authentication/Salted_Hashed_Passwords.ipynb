{
 "cells": [
  {
   "cell_type": "code",
   "execution_count": 1,
   "metadata": {
    "graffitiCellId": "id_o5zz5un"
   },
   "outputs": [
    {
     "name": "stdout",
     "output_type": "stream",
     "text": [
      "Collecting bcrypt<4.0\n",
      "\u001b[?25l  Downloading https://files.pythonhosted.org/packages/40/8f/b67b42faa2e4d944b145b1a402fc08db0af8fe2dfa92418c674b5a302496/bcrypt-3.2.2-cp36-abi3-manylinux_2_5_x86_64.manylinux1_x86_64.manylinux_2_12_x86_64.manylinux2010_x86_64.whl (64kB)\n",
      "\u001b[K    100% |████████████████████████████████| 71kB 4.5MB/s ta 0:00:011\n",
      "\u001b[?25hRequirement already satisfied: cffi>=1.1 in /opt/conda/lib/python3.6/site-packages (from bcrypt<4.0) (1.11.2)\n",
      "Requirement already satisfied: pycparser in /opt/conda/lib/python3.6/site-packages (from cffi>=1.1->bcrypt<4.0) (2.18)\n",
      "Installing collected packages: bcrypt\n",
      "Successfully installed bcrypt-3.2.2\n"
     ]
    }
   ],
   "source": [
    "# Import the Python Library\n",
    "import sys\n",
    "!{sys.executable} -m pip install 'bcrypt<4.0'\n",
    "import bcrypt"
   ]
  },
  {
   "cell_type": "code",
   "execution_count": 2,
   "metadata": {
    "graffitiCellId": "id_ewiz7ij"
   },
   "outputs": [],
   "source": [
    "password = b\"studyhard\""
   ]
  },
  {
   "cell_type": "code",
   "execution_count": 3,
   "metadata": {
    "graffitiCellId": "id_okz0ahc"
   },
   "outputs": [
    {
     "name": "stdout",
     "output_type": "stream",
     "text": [
      "b'$2b$14$/MnCbpWrmvET2L.CUW42qu'\n",
      "b'$2b$14$/MnCbpWrmvET2L.CUW42quRBjxZ7pYdsB6KnUBr3v8d.t0TDgW9vq'\n"
     ]
    }
   ],
   "source": [
    "# Hash a password for the first time, with a certain number of rounds\n",
    "salt = bcrypt.gensalt(14)\n",
    "hashed = bcrypt.hashpw(password, salt)\n",
    "print(salt)\n",
    "print(hashed)"
   ]
  },
  {
   "cell_type": "code",
   "execution_count": 4,
   "metadata": {
    "graffitiCellId": "id_vve0col"
   },
   "outputs": [
    {
     "data": {
      "text/plain": [
       "True"
      ]
     },
     "execution_count": 4,
     "metadata": {},
     "output_type": "execute_result"
    }
   ],
   "source": [
    "# Check a plain text string against the salted, hashed digest\n",
    "bcrypt.checkpw(password, hashed)"
   ]
  },
  {
   "cell_type": "code",
   "execution_count": null,
   "metadata": {
    "graffitiCellId": "id_jnlxyv1"
   },
   "outputs": [],
   "source": [
    "hashed = b'$2b$14$EFOxm3q8UWH8ZzK1h.WTZeRcPyr8/X0vRfuL3/e9z7AKIMnocurBG'\n",
    "pw_list = [b\"securepassword\", b\"udacity\", b\"learningisfun\"]\n",
    "for pw in pw_list:\n",
    "    if bcrypt.checkpw(pw, hashed):\n",
    "        print(pw)"
   ]
  }
 ],
 "metadata": {
  "graffiti": {
   "firstAuthorId": "10489997357",
   "id": "id_owkala1",
   "language": "EN"
  },
  "kernelspec": {
   "display_name": "Python 3",
   "language": "python",
   "name": "python3"
  },
  "language_info": {
   "codemirror_mode": {
    "name": "ipython",
    "version": 3
   },
   "file_extension": ".py",
   "mimetype": "text/x-python",
   "name": "python",
   "nbconvert_exporter": "python",
   "pygments_lexer": "ipython3",
   "version": "3.6.3"
  }
 },
 "nbformat": 4,
 "nbformat_minor": 2
}
